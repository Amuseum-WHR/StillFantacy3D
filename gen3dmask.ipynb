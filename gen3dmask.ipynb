{
 "cells": [
  {
   "cell_type": "code",
   "execution_count": 1,
   "id": "253e95b8-ccdf-4e2c-b091-c2f449b3ed75",
   "metadata": {
    "ExecutionIndicator": {
     "show": true
    },
    "execution": {
     "iopub.execute_input": "2023-09-01T09:26:01.773836Z",
     "iopub.status.busy": "2023-09-01T09:26:01.773691Z",
     "iopub.status.idle": "2023-09-01T09:26:01.916389Z",
     "shell.execute_reply": "2023-09-01T09:26:01.915978Z",
     "shell.execute_reply.started": "2023-09-01T09:26:01.773822Z"
    },
    "tags": []
   },
   "outputs": [],
   "source": [
    "import numpy as np\n",
    "import json \n",
    "from PIL import Image\n",
    "import os\n",
    "from tqdm import tqdm as tqdm"
   ]
  },
  {
   "cell_type": "code",
   "execution_count": 2,
   "id": "94b28dc5-8e1c-429e-941f-779334d63178",
   "metadata": {
    "ExecutionIndicator": {
     "show": true
    },
    "execution": {
     "iopub.execute_input": "2023-09-01T09:26:02.953318Z",
     "iopub.status.busy": "2023-09-01T09:26:02.952730Z",
     "iopub.status.idle": "2023-09-01T09:26:02.957937Z",
     "shell.execute_reply": "2023-09-01T09:26:02.957419Z",
     "shell.execute_reply.started": "2023-09-01T09:26:02.953290Z"
    },
    "tags": []
   },
   "outputs": [
    {
     "name": "stdout",
     "output_type": "stream",
     "text": [
      "8534\n"
     ]
    }
   ],
   "source": [
    "base_dir = 'out/hammer_validate/'\n",
    "with open(base_dir + 'face_preds.json') as f:\n",
    "    face_class = json.load(f)\n",
    "face_num = len(face_class)\n",
    "print(face_num)"
   ]
  },
  {
   "cell_type": "code",
   "execution_count": 3,
   "id": "b9bd49c6-0a03-466f-a40d-df1f5558c994",
   "metadata": {
    "ExecutionIndicator": {
     "show": true
    },
    "execution": {
     "iopub.execute_input": "2023-09-01T09:26:04.524423Z",
     "iopub.status.busy": "2023-09-01T09:26:04.523880Z",
     "iopub.status.idle": "2023-09-01T09:26:04.527823Z",
     "shell.execute_reply": "2023-09-01T09:26:04.527393Z",
     "shell.execute_reply.started": "2023-09-01T09:26:04.524404Z"
    },
    "tags": []
   },
   "outputs": [
    {
     "name": "stdout",
     "output_type": "stream",
     "text": [
      "['head', 'handle']\n"
     ]
    }
   ],
   "source": [
    "all_classes = []\n",
    "for i in face_class:\n",
    "    if i not in all_classes and i!= 'unknown':\n",
    "        all_classes.append(i)\n",
    "print(all_classes)"
   ]
  },
  {
   "cell_type": "code",
   "execution_count": 6,
   "id": "1da8763f-a79d-43d1-8e00-2b83e43db847",
   "metadata": {
    "ExecutionIndicator": {
     "show": true
    },
    "execution": {
     "iopub.execute_input": "2023-09-01T09:26:29.255946Z",
     "iopub.status.busy": "2023-09-01T09:26:29.255410Z",
     "iopub.status.idle": "2023-09-01T09:26:29.258600Z",
     "shell.execute_reply": "2023-09-01T09:26:29.258129Z",
     "shell.execute_reply.started": "2023-09-01T09:26:29.255927Z"
    },
    "tags": []
   },
   "outputs": [],
   "source": [
    "mask_table = np.zeros((face_num, len(all_classes)))\n",
    "# class_id = {}\n",
    "# for idx, class_name in enumerate(all_classes):\n",
    "#     class_id[class_name] = idx\n",
    "# for idx, classes in enumerate(face_class):\n",
    "#     mask_table[idx][class_id[classes]] += 1"
   ]
  },
  {
   "cell_type": "code",
   "execution_count": 7,
   "id": "7a5d02ef-63bc-4fbf-a0ed-9f4bfe0bcb80",
   "metadata": {
    "ExecutionIndicator": {
     "show": true
    },
    "execution": {
     "iopub.execute_input": "2023-09-01T09:26:30.770642Z",
     "iopub.status.busy": "2023-09-01T09:26:30.770214Z",
     "iopub.status.idle": "2023-09-01T09:26:30.774266Z",
     "shell.execute_reply": "2023-09-01T09:26:30.773832Z",
     "shell.execute_reply.started": "2023-09-01T09:26:30.770624Z"
    },
    "tags": []
   },
   "outputs": [],
   "source": [
    "def IoU(mask1, mask2):\n",
    "    union = np.logical_or(mask1, mask2)\n",
    "    intersection = np.logical_and(mask1, mask2)\n",
    "    \n",
    "    # union = union.astype(float)\n",
    "    # intersection = intersection.astype(float)\n",
    "    if np.sum(intersection) == 0:\n",
    "        return 0\n",
    "    iou = float(np.sum(intersection)) / float(np.sum(union))\n",
    "    # print(np.sum(mask1), np.sum(mask2), np.sum(union), np.sum(intersection), iou)\n",
    "    return iou\n",
    "\n",
    "def visualize_mask(mask):\n",
    "    mask = (mask.astype(np.float32).repeat(3,axis=-1) * 255).astype(np.uint8)\n",
    "    img = Image.fromarray(mask)\n",
    "    return img"
   ]
  },
  {
   "cell_type": "code",
   "execution_count": 8,
   "id": "4274e5f0-0dc9-48e7-8637-c8c5b9282e36",
   "metadata": {
    "ExecutionIndicator": {
     "show": true
    },
    "execution": {
     "iopub.execute_input": "2023-09-01T09:26:34.268137Z",
     "iopub.status.busy": "2023-09-01T09:26:34.267688Z",
     "iopub.status.idle": "2023-09-01T09:29:53.809179Z",
     "shell.execute_reply": "2023-09-01T09:29:53.807600Z",
     "shell.execute_reply.started": "2023-09-01T09:26:34.268118Z"
    },
    "tags": []
   },
   "outputs": [
    {
     "name": "stderr",
     "output_type": "stream",
     "text": [
      "100%|██████████| 101/101 [01:38<00:00,  1.02it/s]\n",
      "100%|██████████| 100/100 [01:40<00:00,  1.01s/it]\n"
     ]
    }
   ],
   "source": [
    "folder_list = ['validate', 'validate_1']\n",
    "for f in folder_list:\n",
    "    seg_dir = base_dir + f + '/seg/'\n",
    "    rast_dir = base_dir + f + '/rast/'\n",
    "    render_file_list = os.listdir(seg_dir)\n",
    "    for folder in tqdm(render_file_list):\n",
    "        if folder[:3] == 'val':\n",
    "            rast = np.load(rast_dir + folder + '_rast.npy')\n",
    "            satr_mask = []\n",
    "            for classes in all_classes:\n",
    "                mask = np.zeros_like(rast).astype(bool)\n",
    "                for i in range(mask.shape[0]):\n",
    "                    for j in range(mask.shape[1]):\n",
    "                        if(rast[i][j] > 0.5):\n",
    "                            mask[i][j] = (face_class[int(rast[i][j][0])-1] == classes)\n",
    "                satr_mask.append(mask)\n",
    "            # vote for this view\n",
    "            files_list = os.listdir(seg_dir + folder)\n",
    "            mask_list = []\n",
    "            for name in files_list:\n",
    "                img = Image.open(seg_dir + folder + '/' + name)\n",
    "                mask = np.array(img)[:,:,0:1].astype(bool)\n",
    "                mask_list.append(mask)\n",
    "            for idx, msk in enumerate(satr_mask):\n",
    "                iou_max = -1\n",
    "                target = None\n",
    "                for candidate in mask_list:\n",
    "                    iou = IoU(candidate, msk)\n",
    "                    if iou > iou_max:\n",
    "                        target = candidate\n",
    "                        iou_max = iou\n",
    "                # for i in range(msk.shape[0]):\n",
    "                #     for j in range(msk.shape[1]):\n",
    "                #         if(msk[i][j]):\n",
    "                #             mask_table[int(rast[i][j])-1][idx] += 1\n",
    "                for i in range(target.shape[0]):\n",
    "                    for j in range(target.shape[1]):\n",
    "                        if(target[i][j]):\n",
    "                            mask_table[int(rast[i][j])-1][idx] += 1"
   ]
  },
  {
   "cell_type": "code",
   "execution_count": 9,
   "id": "d5eab9d3-5cde-45fd-8322-e0b94357067b",
   "metadata": {
    "ExecutionIndicator": {
     "show": true
    },
    "execution": {
     "iopub.execute_input": "2023-09-01T09:29:53.811709Z",
     "iopub.status.busy": "2023-09-01T09:29:53.811445Z",
     "iopub.status.idle": "2023-09-01T09:29:53.831524Z",
     "shell.execute_reply": "2023-09-01T09:29:53.830710Z",
     "shell.execute_reply.started": "2023-09-01T09:29:53.811692Z"
    },
    "tags": []
   },
   "outputs": [],
   "source": [
    "np.save(base_dir + '3dmask_vote.npy', mask_table)"
   ]
  },
  {
   "cell_type": "code",
   "execution_count": 10,
   "id": "1814e15c-6210-4228-8e4a-de5ea98f8f91",
   "metadata": {
    "ExecutionIndicator": {
     "show": true
    },
    "execution": {
     "iopub.execute_input": "2023-09-01T09:29:53.832157Z",
     "iopub.status.busy": "2023-09-01T09:29:53.832001Z",
     "iopub.status.idle": "2023-09-01T09:29:53.868987Z",
     "shell.execute_reply": "2023-09-01T09:29:53.868531Z",
     "shell.execute_reply.started": "2023-09-01T09:29:53.832144Z"
    },
    "tags": []
   },
   "outputs": [],
   "source": [
    "mask_result = np.zeros(face_num, dtype=int)\n",
    "for idx in range(face_num):\n",
    "    mask_result[idx] = int(np.argmax(mask_table[idx])) + 1\n",
    "np.save(base_dir + '3dmask.npy', mask_result)"
   ]
  },
  {
   "cell_type": "code",
   "execution_count": 12,
   "id": "ebe84825-9a8c-41cb-bad6-eaf62bfa53af",
   "metadata": {
    "ExecutionIndicator": {
     "show": true
    },
    "execution": {
     "iopub.execute_input": "2023-09-01T10:22:25.649100Z",
     "iopub.status.busy": "2023-09-01T10:22:25.648856Z",
     "iopub.status.idle": "2023-09-01T10:22:26.231316Z",
     "shell.execute_reply": "2023-09-01T10:22:26.230313Z",
     "shell.execute_reply.started": "2023-09-01T10:22:25.649084Z"
    },
    "tags": []
   },
   "outputs": [
    {
     "data": {
      "image/png": "[encoded data removed]",
      "text/plain": [
       "<PIL.Image.Image image mode=RGB size=512x1536>"
      ]
     },
     "execution_count": 12,
     "metadata": {},
     "output_type": "execute_result"
    }
   ],
   "source": [
    "rast_dir = base_dir + 'validate/rast/'\n",
    "rast = np.load(rast_dir + 'val_000055' + '_rast.npy')\n",
    "mask0 = np.zeros_like(rast).astype(bool)\n",
    "mask1 = np.zeros_like(rast).astype(bool)\n",
    "mask2 = np.zeros_like(rast).astype(bool)\n",
    "for i in range(mask.shape[0]):\n",
    "    for j in range(mask.shape[1]):\n",
    "        if(rast[i][j] > 0.5):\n",
    "            mask1[i][j] = (mask_result[int(rast[i][j][0])-1] == 1)\n",
    "            mask2[i][j] = (mask_result[int(rast[i][j][0])-1] == 2)\n",
    "        else:\n",
    "            mask0[i][j] = True\n",
    "\n",
    "vis = visualize_mask(np.concatenate([mask0, mask1, mask2], axis=0))\n",
    "vis"
   ]
  },
  {
   "cell_type": "code",
   "execution_count": 20,
   "id": "6c8bc9d7-e20f-4c8b-837a-d91215a37a82",
   "metadata": {
    "ExecutionIndicator": {
     "show": true
    },
    "execution": {
     "iopub.execute_input": "2023-09-01T12:05:39.802968Z",
     "iopub.status.busy": "2023-09-01T12:05:39.802596Z",
     "iopub.status.idle": "2023-09-01T12:05:39.807276Z",
     "shell.execute_reply": "2023-09-01T12:05:39.806727Z",
     "shell.execute_reply.started": "2023-09-01T12:05:39.802948Z"
    },
    "tags": []
   },
   "outputs": [
    {
     "data": {
      "text/plain": [
       "torch.int64"
      ]
     },
     "execution_count": 20,
     "metadata": {},
     "output_type": "execute_result"
    }
   ],
   "source": [
    "import torch\n",
    "a = torch.tensor([1,2,3,4])\n",
    "b = torch.tensor([5,5,2,3,0])\n",
    "b[a].dtype"
   ]
  }
 ],
 "metadata": {
  "kernelspec": {
   "display_name": "env1",
   "language": "python",
   "name": "env1"
  },
  "language_info": {
   "codemirror_mode": {
    "name": "ipython",
    "version": 3
   },
   "file_extension": ".py",
   "mimetype": "text/x-python",
   "name": "python",
   "nbconvert_exporter": "python",
   "pygments_lexer": "ipython3",
   "version": "3.9.15"
  }
 },
 "nbformat": 4,
 "nbformat_minor": 5
}
